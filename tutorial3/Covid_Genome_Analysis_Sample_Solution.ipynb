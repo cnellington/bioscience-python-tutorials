{
  "nbformat": 4,
  "nbformat_minor": 0,
  "metadata": {
    "colab": {
      "name": "Covid Genome Analysis Sample Solution",
      "provenance": [],
      "collapsed_sections": []
    },
    "kernelspec": {
      "name": "python3",
      "display_name": "Python 3"
    }
  },
  "cells": [
    {
      "cell_type": "markdown",
      "metadata": {
        "id": "Oib_Xg58D08U",
        "colab_type": "text"
      },
      "source": [
        "# Covid Genome Analysis Sample Solution\n",
        "\n",
        "Author: Eric Yang\n",
        "\n",
        "** This is a sample solution, there are many ways to approach these problems! \n",
        "\n",
        "From evolution to molecular biology, genomic sequences contain a rich amount of information that can help us in studying disease diagnostics and treatment. Here, we will look at the sequence of the SARS-Cov2 surface glycoprotein. This sequence was obtained from a patient in Wuhan in December 2019 (https://www.ncbi.nlm.nih.gov/nuccore/MN908947). For ease of access, I have provided the full protein sequence below.\n",
        "\n",
        "Please run all the cells titled #You must run this cell, and complete all cells titled #Your code here. I encourage you to use online resources when you get stuck, remember Google is your friend!"
      ]
    },
    {
      "cell_type": "code",
      "metadata": {
        "id": "XvHpsHvmUlS_",
        "colab_type": "code",
        "colab": {}
      },
      "source": [
        "# You must run this cell\n",
        "\n",
        "# Severe acute respiratory syndrome coronavirus 2 (SARS-CoV2) surface glycoprotein genome.\n",
        "genome = \"atgtttgt ttttcttgtt ttattgccac tagtctctag\\\n",
        "tcagtgtgtt aatcttacaa ccagaactca attaccccct gcatacacta attctttcac\\\n",
        "acgtggtgtt tattaccctg acaaagtttt cagatcctca gttttacatt caactcagga\\\n",
        "cttgttctta cctttctttt ccaatgttac ttggttccat gctatacatg tctctgggac\\\n",
        "caatggtact aagaggtttg ataaccctgt cctaccattt aatgatggtg tttattttgc\\\n",
        "ttccactgag aagtctaaca taataagagg ctggattttt ggtactactt tagattcgaa\\\n",
        "gacccagtcc ctacttattg ttaataacgc tactaatgtt gttattaaag tctgtgaatt\\\n",
        "tcaattttgt aatgatccat ttttgggtgt ttattaccac aaaaacaaca aaagttggat\\\n",
        "ggaaagtgag ttcagagttt attctagtgc gaataattgc acttttgaat atgtctctca\\\n",
        "gccttttctt atggaccttg aaggaaaaca gggtaatttc aaaaatctta gggaatttgt\\\n",
        "gtttaagaat attgatggtt attttaaaat atattctaag cacacgccta ttaatttagt\\\n",
        "gcgtgatctc cctcagggtt tttcggcttt agaaccattg gtagatttgc caataggtat\\\n",
        "taacatcact aggtttcaaa ctttacttgc tttacataga agttatttga ctcctggtga\\\n",
        "ttcttcttca ggttggacag ctggtgctgc agcttattat gtgggttatc ttcaacctag\\\n",
        "gacttttcta ttaaaatata atgaaaatgg aaccattaca gatgctgtag actgtgcact\\\n",
        "tgaccctctc tcagaaacaa agtgtacgtt gaaatccttc actgtagaaa aaggaatcta\\\n",
        "tcaaacttct aactttagag tccaaccaac agaatctatt gttagatttc ctaatattac\\\n",
        "aaacttgtgc ccttttggtg aagtttttaa cgccaccaga tttgcatctg tttatgcttg\\\n",
        "gaacaggaag agaatcagca actgtgttgc tgattattct gtcctatata attccgcatc\\\n",
        "attttccact tttaagtgtt atggagtgtc tcctactaaa ttaaatgatc tctgctttac\\\n",
        "taatgtctat gcagattcat ttgtaattag aggtgatgaa gtcagacaaa tcgctccagg\\\n",
        "gcaaactgga aagattgctg attataatta taaattacca gatgatttta caggctgcgt\\\n",
        "tatagcttgg aattctaaca atcttgattc taaggttggt ggtaattata attacctgta\\\n",
        "tagattgttt aggaagtcta atctcaaacc ttttgagaga gatatttcaa ctgaaatcta\\\n",
        "tcaggccggt agcacacctt gtaatggtgt tgaaggtttt aattgttact ttcctttaca\\\n",
        "atcatatggt ttccaaccca ctaatggtgt tggttaccaa ccatacagag tagtagtact\\\n",
        "ttcttttgaa cttctacatg caccagcaac tgtttgtgga cctaaaaagt ctactaattt\\\n",
        "ggttaaaaac aaatgtgtca atttcaactt caatggttta acaggcacag gtgttcttac\\\n",
        "tgagtctaac aaaaagtttc tgcctttcca acaatttggc agagacattg ctgacactac\\\n",
        "tgatgctgtc cgtgatccac agacacttga gattcttgac attacaccat gttcttttgg\\\n",
        "tggtgtcagt gttataacac caggaacaaa tacttctaac caggttgctg ttctttatca\\\n",
        "ggatgttaac tgcacagaag tccctgttgc tattcatgca gatcaactta ctcctacttg\\\n",
        "gcgtgtttat tctacaggtt ctaatgtttt tcaaacacgt gcaggctgtt taataggggc\\\n",
        "tgaacatgtc aacaactcat atgagtgtga catacccatt ggtgcaggta tatgcgctag\\\n",
        "ttatcagact cagactaatt ctcctcggcg ggcacgtagt gtagctagtc aatccatcat\\\n",
        "tgcctacact atgtcacttg gtgcagaaaa ttcagttgct tactctaata actctattgc\\\n",
        "catacccaca aattttacta ttagtgttac cacagaaatt ctaccagtgt ctatgaccaa\\\n",
        "gacatcagta gattgtacaa tgtacatttg tggtgattca actgaatgca gcaatctttt\\\n",
        "gttgcaatat ggcagttttt gtacacaatt aaaccgtgct ttaactggaa tagctgttga\\\n",
        "acaagacaaa aacacccaag aagtttttgc acaagtcaaa caaatttaca aaacaccacc\\\n",
        "aattaaagat tttggtggtt ttaatttttc acaaatatta ccagatccat caaaaccaag\\\n",
        "caagaggtca tttattgaag atctactttt caacaaagtg acacttgcag atgctggctt\\\n",
        "catcaaacaa tatggtgatt gccttggtga tattgctgct agagacctca tttgtgcaca\\\n",
        "aaagtttaac ggccttactg ttttgccacc tttgctcaca gatgaaatga ttgctcaata\\\n",
        "cacttctgca ctgttagcgg gtacaatcac ttctggttgg acctttggtg caggtgctgc\\\n",
        "attacaaata ccatttgcta tgcaaatggc ttataggttt aatggtattg gagttacaca\\\n",
        "gaatgttctc tatgagaacc aaaaattgat tgccaaccaa tttaatagtg ctattggcaa\\\n",
        "aattcaagac tcactttctt ccacagcaag tgcacttgga aaacttcaag atgtggtcaa\\\n",
        "ccaaaatgca caagctttaa acacgcttgt taaacaactt agctccaatt ttggtgcaat\\\n",
        "ttcaagtgtt ttaaatgata tcctttcacg tcttgacaaa gttgaggctg aagtgcaaat\\\n",
        "tgataggttg atcacaggca gacttcaaag tttgcagaca tatgtgactc aacaattaat\\\n",
        "tagagctgca gaaatcagag cttctgctaa tcttgctgct actaaaatgt cagagtgtgt\\\n",
        "acttggacaa tcaaaaagag ttgatttttg tggaaagggc tatcatctta tgtccttccc\\\n",
        "tcagtcagca cctcatggtg tagtcttctt gcatgtgact tatgtccctg cacaagaaaa\\\n",
        "gaacttcaca actgctcctg ccatttgtca tgatggaaaa gcacactttc ctcgtgaagg\\\n",
        "tgtctttgtt tcaaatggca cacactggtt tgtaacacaa aggaattttt atgaaccaca\\\n",
        "aatcattact acagacaaca catttgtgtc tggtaactgt gatgttgtaa taggaattgt\\\n",
        "caacaacaca gtttatgatc ctttgcaacc tgaattagac tcattcaagg aggagttaga\\\n",
        "taaatatttt aagaatcata catcaccaga tgttgattta ggtgacatct ctggcattaa\\\n",
        "tgcttcagtt gtaaacattc aaaaagaaat tgaccgcctc aatgaggttg ccaagaattt\\\n",
        "aaatgaatct ctcatcgatc tccaagaact tggaaagtat gagcagtata taaaatggcc\\\n",
        "atggtacatt tggctaggtt ttatagctgg cttgattgcc atagtaatgg tgacaattat\\\n",
        "gctttgctgt atgaccagtt gctgtagttg tctcaagggc tgttgttctt gtggatcctg\\\n",
        "ctgcaaattt gatgaagacg actctgagcc agtgctcaaa ggagtcaaat tacattacac\\\n",
        "ataa\"\n",
        "genome = genome.replace(\" \", \"\")"
      ],
      "execution_count": 0,
      "outputs": []
    },
    {
      "cell_type": "markdown",
      "metadata": {
        "id": "gcADBEJtJJIr",
        "colab_type": "text"
      },
      "source": [
        "Let's explore this sequence. \n",
        "\n",
        "1) Print out the length of the sequence."
      ]
    },
    {
      "cell_type": "code",
      "metadata": {
        "id": "L9uoEkOmIL5B",
        "colab_type": "code",
        "colab": {
          "base_uri": "https://localhost:8080/",
          "height": 34
        },
        "outputId": "35dada72-515b-49da-dacb-02eaebcb19fe"
      },
      "source": [
        "# Your code here\n",
        "len(genome)"
      ],
      "execution_count": 3,
      "outputs": [
        {
          "output_type": "execute_result",
          "data": {
            "text/plain": [
              "3822"
            ]
          },
          "metadata": {
            "tags": []
          },
          "execution_count": 3
        }
      ]
    },
    {
      "cell_type": "markdown",
      "metadata": {
        "id": "_GlEI_jzJzJ2",
        "colab_type": "text"
      },
      "source": [
        "2) Traverse through the sequence once and count the number of each nucleotide in the sequence. Store this in a dictionary with the nucleotide (key) mapping to its respective count (value). "
      ]
    },
    {
      "cell_type": "code",
      "metadata": {
        "id": "kCDEejWtJyUd",
        "colab_type": "code",
        "colab": {
          "base_uri": "https://localhost:8080/",
          "height": 34
        },
        "outputId": "3992703c-6c70-4801-9ef1-5aa6c4286ecf"
      },
      "source": [
        "# Your code here\n",
        "\n",
        "# initialize dictionary \n",
        "base_counts = {}\n",
        "base_counts = base_counts.fromkeys([\"a\",\"t\",\"c\",\"g\"], 0)\n",
        "for base in genome:\n",
        "  base_counts[base] += 1\n",
        "base_counts"
      ],
      "execution_count": 4,
      "outputs": [
        {
          "output_type": "execute_result",
          "data": {
            "text/plain": [
              "{'a': 1125, 'c': 723, 'g': 703, 't': 1271}"
            ]
          },
          "metadata": {
            "tags": []
          },
          "execution_count": 4
        }
      ]
    },
    {
      "cell_type": "markdown",
      "metadata": {
        "id": "EV2CL3R3Mnsv",
        "colab_type": "text"
      },
      "source": [
        "3) Import matplotlib and use it to create a bar chart of nucleotide vs count. Are they equally divided? Or are some nucleotides more present compared to others, and why is this? "
      ]
    },
    {
      "cell_type": "code",
      "metadata": {
        "id": "vPeh16k7Murt",
        "colab_type": "code",
        "colab": {
          "base_uri": "https://localhost:8080/",
          "height": 282
        },
        "outputId": "702152d7-fece-4a05-c03b-68026962f1a7"
      },
      "source": [
        "# Your code here \n",
        "import matplotlib.pyplot as plt\n",
        "plt.bar(base_counts.keys(), base_counts.values(), width=0.2, color='k')"
      ],
      "execution_count": 10,
      "outputs": [
        {
          "output_type": "execute_result",
          "data": {
            "text/plain": [
              "<BarContainer object of 4 artists>"
            ]
          },
          "metadata": {
            "tags": []
          },
          "execution_count": 10
        },
        {
          "output_type": "display_data",
          "data": {
            "image/png": "[encoded data removed]",
            "text/plain": [
              "<Figure size 432x288 with 1 Axes>"
            ]
          },
          "metadata": {
            "tags": [],
            "needs_background": "light"
          }
        }
      ]
    },
    {
      "cell_type": "markdown",
      "metadata": {
        "id": "3ewCFKzhNo-R",
        "colab_type": "text"
      },
      "source": [
        "4) Let's use this genome to do an aside coding exercise. In reality, this whole sequence is one open reading frame, as in all of its contents end to end are used for protein synthesis. However, let's pretend that the sequence is a whole viral genome. \n",
        "\n",
        "Neglecting the end to end reading frame, find the start and end of the other open reading frame in the sequence (no need to do the reverse or reverse complement). Hint: store the sequence itself and its length in a dictionary.\n",
        "\n",
        "You will need to loop through the sequence in all three readings frames and decide how you will get codons and detect start (ATG) and stop codons (TAA, TAG, TGA).\n",
        "\n",
        "Note: You can compare your results with NCBI's open reading frame finder. https://www.ncbi.nlm.nih.gov/orffinder/"
      ]
    },
    {
      "cell_type": "code",
      "metadata": {
        "id": "U27qu-CkQyhJ",
        "colab_type": "code",
        "colab": {
          "base_uri": "https://localhost:8080/",
          "height": 1000
        },
        "outputId": "477c8513-cde7-42d2-f016-0faaf878cea2"
      },
      "source": [
        "# Your code here\n",
        "\n",
        "orfs = {}\n",
        "index = 1 #ignores whole reading frame\n",
        "while index < len(genome):\n",
        "  codon = genome[index : index + 3]\n",
        "  if codon == 'atg':\n",
        "    frame_index = index\n",
        "    frame = codon\n",
        "    frame_index += 3\n",
        "    codon = genome[frame_index : frame_index + 3]\n",
        "    while codon not in ['taa', 'tag', 'tga'] and frame_index < len(genome):\n",
        "      frame += codon\n",
        "      frame_index += 3\n",
        "      codon = genome[frame_index : frame_index + 3]\n",
        "    frame += codon\n",
        "    orfs[frame] = len(frame)\n",
        "  index += 1\n",
        "orfs"
      ],
      "execution_count": 14,
      "outputs": [
        {
          "output_type": "execute_result",
          "data": {
            "text/plain": [
              "{'atgaaaatggaaccattacagatgctgtag': 30,\n",
              " 'atgaaatga': 9,\n",
              " 'atgaaccacaaatcattactacagacaacacatttgtgtctggtaactgtgatgttgtaa': 60,\n",
              " 'atgaagacgactctgagccagtgctcaaaggagtcaaattacattacacataa': 53,\n",
              " 'atgaagtcagacaaatcgctccagggcaaactggaaagattgctgattataattataaattaccagatgattttacaggctgcgttatag': 90,\n",
              " 'atgaatctctcatcgatctccaagaacttggaaagtatgagcagtatataa': 51,\n",
              " 'atgaccaagacatcagtagattgtacaatgtacatttgtggtgattcaactgaatgcagcaatcttttgttgcaatatggcagtttttgtacacaattaaaccgtgctttaactggaatagctgttgaacaagacaaaaacacccaagaagtttttgcacaagtcaaacaaatttacaaaacaccaccaattaaagattttggtggttttaatttttcacaaatattaccagatccatcaaaaccaagcaagaggtcatttattgaagatctacttttcaacaaagtgacacttgcagatgctggcttcatcaaacaatatggtgattgccttggtgatattgctgctagagacctcatttgtgcacaaaagtttaacggccttactgttttgccacctttgctcacagatgaaatgattgctcaatacacttctgcactgttagcgggtacaatcacttctggttggacctttggtgcaggtgctgcattacaaataccatttgctatgcaaatggcttataggtttaatggtattggagttacacagaatgttctctatgagaaccaaaaattgattgccaaccaatttaatagtgctattggcaaaattcaagactcactttcttccacagcaagtgcacttggaaaacttcaagatgtggtcaaccaaaatgcacaagctttaaacacgcttgttaaacaacttagctccaattttggtgcaatttcaagtgttttaaatgatatcctttcacgtcttgacaaagttgaggctgaagtgcaaattgataggttgatcacaggcagacttcaaagtttgcagacatatgtgactcaacaattaattagagctgcagaaatcagagcttctgctaatcttgctgctactaaaatgtcagagtgtgtacttggacaatcaaaaagagttgatttttgtggaaagggctatcatcttatgtccttccctcagtcagcacctcatggtgtagtcttcttgcatgtgacttatgtccctgcacaagaaaagaacttcacaactgctcctgccatttgtcatgatggaaaagcacactttcctcgtgaaggtgtctttgtttcaaatggcacacactggtttgtaacacaaaggaatttttatgaaccacaaatcattactacagacaacacatttgtgtctggtaactgtgatgttgtaataggaattgtcaacaacacagtttatgatcctttgcaacctgaattagactcattcaaggaggagttagataaatattttaagaatcatacatcaccagatgttgatttaggtgacatctctggcattaatgcttcagttgtaaacattcaaaaagaaattgaccgcctcaatgaggttgccaagaatttaaatgaatctctcatcgatctccaagaacttggaaagtatgagcagtatataaaatggccatggtacatttggctaggttttatagctggcttgattgccatagtaatggtgacaattatgctttgctgtatgaccagttgctgtagttgtctcaagggctgttgttcttgtggatcctgctgcaaatttgatgaagacgactctgagccagtgctcaaaggagtcaaattacattacacataa': 1632,\n",
              " 'atgaccagttgctgtagttgtctcaagggctgttgttcttgtggatcctgctgcaaatttgatgaagacgactctgagccagtgctcaaaggagtcaaattacattacacataa': 114,\n",
              " 'atgagaaccaaaaattga': 18,\n",
              " 'atgagcagtatataa': 15,\n",
              " 'atgaggttgccaagaatttaa': 21,\n",
              " 'atgagtgtgacatacccattggtgcaggtatatgcgctagttatcagactcagactaattctcctcggcgggcacgtagtgtag': 84,\n",
              " 'atgatatcctttcacgtcttgacaaagttgaggctgaagtgcaaattgataggttga': 57,\n",
              " 'atgatccatttttgggtgtttattaccacaaaaacaacaaaagttggatggaaagtgagttcagagtttattctagtgcgaataattgcacttttgaatatgtctctcagccttttcttatggaccttgaaggaaaacagggtaatttcaaaaatcttagggaatttgtgtttaagaatattgatggttattttaaaatatattctaagcacacgcctattaatttag': 228,\n",
              " 'atgatcctttgcaacctgaattag': 24,\n",
              " 'atgatctctgctttactaatgtctatgcagattcatttgtaa': 42,\n",
              " 'atgatggaaaagcacactttcctcgtgaaggtgtctttgtttcaaatggcacacactggtttgtaa': 66,\n",
              " 'atgatggtgtttattttgcttccactgagaagtctaacataa': 42,\n",
              " 'atgattgctcaatacacttctgcactgttagcgggtacaatcacttctggttggacctttggtgcaggtgctgcattacaaataccatttgctatgcaaatggcttataggtttaatggtattggagttacacagaatgttctctatgagaaccaaaaattgattgccaaccaatttaatagtgctattggcaaaattcaagactcactttcttccacagcaagtgcacttggaaaacttcaagatgtggtcaaccaaaatgcacaagctttaaacacgcttgttaaacaacttagctccaattttggtgcaatttcaagtgttttaaatgatatcctttcacgtcttgacaaagttgaggctgaagtgcaaattgataggttgatcacaggcagacttcaaagtttgcagacatatgtgactcaacaattaattagagctgcagaaatcagagcttctgctaatcttgctgctactaaaatgtcagagtgtgtacttggacaatcaaaaagagttgatttttgtggaaagggctatcatcttatgtccttccctcagtcagcacctcatggtgtagtcttcttgcatgtgacttatgtccctgcacaagaaaagaacttcacaactgctcctgccatttgtcatgatggaaaagcacactttcctcgtgaaggtgtctttgtttcaaatggcacacactggtttgtaacacaaaggaatttttatgaaccacaaatcattactacagacaacacatttgtgtctggtaactgtgatgttgtaataggaattgtcaacaacacagtttatgatcctttgcaacctgaattagactcattcaaggaggagttagataaatattttaagaatcatacatcaccagatgttgatttaggtgacatctctggcattaatgcttcagttgtaaacattcaaaaagaaattgaccgcctcaatgaggttgccaagaatttaaatgaatctctcatcgatctccaagaacttggaaagtatgagcagtatataaaatggccatggtacatttggctaggttttatagctggcttgattgccatagtaatggtgacaattatgctttgctgtatgaccagttgctgtagttgtctcaagggctgttgttcttgtggatcctgctgcaaatttgatgaagacgactctgagccagtgctcaaaggagtcaaattacattacacataa': 1218,\n",
              " 'atgattttacaggctgcgttatag': 24,\n",
              " 'atgcaaatggcttataggtttaatggtattggagttacacagaatgttctctatgagaaccaaaaattgattgccaaccaatttaatagtgctattggcaaaattcaagactcactttcttccacagcaagtgcacttggaaaacttcaagatgtggtcaaccaaaatgcacaagctttaaacacgcttgttaaacaacttagctccaattttggtgcaatttcaagtgttttaaatgatatcctttcacgtcttgacaaagttgaggctgaagtgcaaattgataggttgatcacaggcagacttcaaagtttgcagacatatgtgactcaacaattaattagagctgcagaaatcagagcttctgctaatcttgctgctactaaaatgtcagagtgtgtacttggacaatcaaaaagagttgatttttgtggaaagggctatcatcttatgtccttccctcagtcagcacctcatggtgtagtcttcttgcatgtgacttatgtccctgcacaagaaaagaacttcacaactgctcctgccatttgtcatgatggaaaagcacactttcctcgtgaaggtgtctttgtttcaaatggcacacactggtttgtaacacaaaggaatttttatgaaccacaaatcattactacagacaacacatttgtgtctggtaactgtgatgttgtaataggaattgtcaacaacacagtttatgatcctttgcaacctgaattagactcattcaaggaggagttagataaatattttaagaatcatacatcaccagatgttgatttaggtgacatctctggcattaatgcttcagttgtaaacattcaaaaagaaattgaccgcctcaatgaggttgccaagaatttaaatgaatctctcatcgatctccaagaacttggaaagtatgagcagtatataaaatggccatggtacatttggctaggttttatagctggcttgattgccatagtaatggtgacaattatgctttgctgtatgaccagttgctgtagttgtctcaagggctgttgttcttgtggatcctgctgcaaatttgatgaagacgactctgagccagtgctcaaaggagtcaaattacattacacataa': 1125,\n",
              " 'atgcacaagctttaa': 15,\n",
              " 'atgcaccagcaactgtttgtggacctaaaaagtctactaatttggttaaaaacaaatgtgtcaatttcaacttcaatggtttaa': 84,\n",
              " 'atgcagatcaacttactcctacttggcgtgtttattctacaggttctaatgtttttcaaacacgtgcaggctgtttaa': 78,\n",
              " 'atgcagattcatttgtaa': 18,\n",
              " 'atgcagcaatcttttgttgcaatatggcagtttttgtacacaattaaaccgtgctttaactggaatagctgttga': 75,\n",
              " 'atgcgctag': 9,\n",
              " 'atgctatacatgtctctgggaccaatggtactaagaggtttgataaccctgtcctaccatttaatgatggtgtttattttgcttccactgagaagtctaacataa': 105,\n",
              " 'atgctggcttcatcaaacaatatggtgattgccttggtgatattgctgctagagacctcatttgtgcacaaaagtttaacggccttactgttttgccacctttgctcacagatgaaatga': 120,\n",
              " 'atgctgtag': 9,\n",
              " 'atgctgtccgtgatccacagacacttgagattcttgacattacaccatgttcttttggtggtgtcagtgttataa': 75,\n",
              " 'atgcttcagttgtaa': 15,\n",
              " 'atgcttggaacaggaagagaatcagcaactgtgttgctgattattctgtcctatataattccgcatcattttccacttttaagtgttatggagtgtctcctactaaattaa': 111,\n",
              " 'atgctttgctgtatgaccagttgctgtagttgtctcaagggctgttgttcttgtggatcctgctgcaaatttgatgaagacgactctgagccagtgctcaaaggagtcaaattacattacacataa': 126,\n",
              " 'atggaaaagcacactttcctcgtgaaggtgtctttgtttcaaatggcacacactggtttgtaa': 63,\n",
              " 'atggaaagtgagttcagagtttattctagtgcgaataattgcacttttgaatatgtctctcagccttttcttatggaccttgaaggaaaacagggtaatttcaaaaatcttagggaatttgtgtttaagaatattgatggttattttaaaatatattctaagcacacgcctattaatttagtgcgtgatctccctcagggtttttcggctttagaaccattggtagatttgccaataggtattaacatcactaggtttcaaactttacttgctttacatagaagttatttgactcctggtgattcttcttcaggttggacagctggtgctgcagcttattatgtgggttatcttcaacctaggacttttctattaaaatataatgaaaatggaaccattacagatgctgtagactgtgcacttgaccctctctcagaaacaaagtgtacgttgaaatccttcactgtagaaaaaggaatctatcaaacttctaactttagagtccaaccaacagaatctattgttagatttcctaatattacaaacttgtgcccttttggtgaagtttttaacgccaccagatttgcatctgtttatgcttggaacaggaagagaatcagcaactgtgttgctgattattctgtcctatataattccgcatcattttccacttttaagtgttatggagtgtctcctactaaattaaatgatctctgctttactaatgtctatgcagattcatttgtaattagaggtgatgaagtcagacaaatcgctccagggcaaactggaaagattgctgattataattataaattaccagatgattttacaggctgcgttatagcttggaattctaacaatcttgattctaaggttggtggtaattataattacctgtatagattgtttaggaagtctaatctcaaaccttttgagagagatatttcaactgaaatctatcaggccggtagcacaccttgtaatggtgttgaaggttttaattgttactttcctttacaatcatatggtttccaacccactaatggtgttggttaccaaccatacagagtagtagtactttcttttgaacttctacatgcaccagcaactgtttgtggacctaaaaagtctactaatttggttaaaaacaaatgtgtcaatttcaacttcaatggtttaacaggcacaggtgttcttactgagtctaacaaaaagtttctgcctttccaacaatttggcagagacattgctgacactactgatgctgtccgtgatccacagacacttgagattcttgacattacaccatgttcttttggtggtgtcagtgttataacaccaggaacaaatacttctaaccaggttgctgttctttatcaggatgttaactgcacagaagtccctgttgctattcatgcagatcaacttactcctacttggcgtgtttattctacaggttctaatgtttttcaaacacgtgcaggctgtttaataggggctgaacatgtcaacaactcatatgagtgtgacatacccattggtgcaggtatatgcgctagttatcagactcagactaattctcctcggcgggcacgtagtgtagctagtcaatccatcattgcctacactatgtcacttggtgcagaaaattcagttgcttactctaataactctattgccatacccacaaattttactattagtgttaccacagaaattctaccagtgtctatgaccaagacatcagtagattgtacaatgtacatttgtggtgattcaactgaatgcagcaatcttttgttgcaatatggcagtttttgtacacaattaaaccgtgctttaactggaatagctgttgaacaagacaaaaacacccaagaagtttttgcacaagtcaaacaaatttacaaaacaccaccaattaaagattttggtggttttaatttttcacaaatattaccagatccatcaaaaccaagcaagaggtcatttattgaagatctacttttcaacaaagtgacacttgcagatgctggcttcatcaaacaatatggtgattgccttggtgatattgctgctagagacctcatttgtgcacaaaagtttaacggccttactgttttgccacctttgctcacagatgaaatgattgctcaatacacttctgcactgttagcgggtacaatcacttctggttggacctttggtgcaggtgctgcattacaaataccatttgctatgcaaatggcttataggtttaatggtattggagttacacagaatgttctctatgagaaccaaaaattgattgccaaccaatttaatagtgctattggcaaaattcaagactcactttcttccacagcaagtgcacttggaaaacttcaagatgtggtcaaccaaaatgcacaagctttaaacacgcttgttaaacaacttagctccaattttggtgcaatttcaagtgttttaaatgatatcctttcacgtcttgacaaagttgaggctgaagtgcaaattgataggttgatcacaggcagacttcaaagtttgcagacatatgtgactcaacaattaattagagctgcagaaatcagagcttctgctaatcttgctgctactaaaatgtcagagtgtgtacttggacaatcaaaaagagttgatttttgtggaaagggctatcatcttatgtccttccctcagtcagcacctcatggtgtagtcttcttgcatgtgacttatgtccctgcacaagaaaagaacttcacaactgctcctgccatttgtcatgatggaaaagcacactttcctcgtgaaggtgtctttgtttcaaatggcacacactggtttgtaacacaaaggaatttttatgaaccacaaatcattactacagacaacacatttgtgtctggtaactgtgatgttgtaataggaattgtcaacaacacagtttatgatcctttgcaacctgaattagactcattcaaggaggagttagataaatattttaagaatcatacatcaccagatgttgatttaggtgacatctctggcattaatgcttcagttgtaaacattcaaaaagaaattgaccgcctcaatgaggttgccaagaatttaaatgaatctctcatcgatctccaagaacttggaaagtatgagcagtatataaaatggccatggtacatttggctaggttttatagctggcttgattgccatagtaatggtgacaattatgctttgctgtatgaccagttgctgtagttgtctcaagggctgttgttcttgtggatcctgctgcaaatttgatgaagacgactctgagccagtgctcaaaggagtcaaattacattacacataa': 3366,\n",
              " 'atggaaccattacagatgctgtag': 24,\n",
              " 'atggaccttgaaggaaaacagggtaatttcaaaaatcttagggaatttgtgtttaagaatattgatggttattttaaaatatattctaagcacacgcctattaatttagtgcgtgatctccctcagggtttttcggctttagaaccattggtagatttgccaataggtattaacatcactaggtttcaaactttacttgctttacatagaagttatttgactcctggtgattcttcttcaggttggacagctggtgctgcagcttattatgtgggttatcttcaacctaggacttttctattaaaatataatgaaaatggaaccattacagatgctgtagactgtgcacttgaccctctctcagaaacaaagtgtacgttgaaatccttcactgtagaaaaaggaatctatcaaacttctaactttagagtccaaccaacagaatctattgttagatttcctaatattacaaacttgtgcccttttggtgaagtttttaacgccaccagatttgcatctgtttatgcttggaacaggaagagaatcagcaactgtgttgctgattattctgtcctatataattccgcatcattttccacttttaagtgttatggagtgtctcctactaaattaaatgatctctgctttactaatgtctatgcagattcatttgtaattagaggtgatgaagtcagacaaatcgctccagggcaaactggaaagattgctgattataattataaattaccagatgattttacaggctgcgttatagcttggaattctaacaatcttgattctaaggttggtggtaattataattacctgtatagattgtttaggaagtctaatctcaaaccttttgagagagatatttcaactgaaatctatcaggccggtagcacaccttgtaatggtgttgaaggttttaattgttactttcctttacaatcatatggtttccaacccactaatggtgttggttaccaaccatacagagtagtagtactttcttttgaacttctacatgcaccagcaactgtttgtggacctaaaaagtctactaatttggttaaaaacaaatgtgtcaatttcaacttcaatggtttaacaggcacaggtgttcttactgagtctaacaaaaagtttctgcctttccaacaatttggcagagacattgctgacactactgatgctgtccgtgatccacagacacttgagattcttgacattacaccatgttcttttggtggtgtcagtgttataacaccaggaacaaatacttctaaccaggttgctgttctttatcaggatgttaactgcacagaagtccctgttgctattcatgcagatcaacttactcctacttggcgtgtttattctacaggttctaatgtttttcaaacacgtgcaggctgtttaataggggctgaacatgtcaacaactcatatgagtgtgacatacccattggtgcaggtatatgcgctagttatcagactcagactaattctcctcggcgggcacgtagtgtagctagtcaatccatcattgcctacactatgtcacttggtgcagaaaattcagttgcttactctaataactctattgccatacccacaaattttactattagtgttaccacagaaattctaccagtgtctatgaccaagacatcagtagattgtacaatgtacatttgtggtgattcaactgaatgcagcaatcttttgttgcaatatggcagtttttgtacacaattaaaccgtgctttaactggaatagctgttgaacaagacaaaaacacccaagaagtttttgcacaagtcaaacaaatttacaaaacaccaccaattaaagattttggtggttttaatttttcacaaatattaccagatccatcaaaaccaagcaagaggtcatttattgaagatctacttttcaacaaagtgacacttgcagatgctggcttcatcaaacaatatggtgattgccttggtgatattgctgctagagacctcatttgtgcacaaaagtttaacggccttactgttttgccacctttgctcacagatgaaatgattgctcaatacacttctgcactgttagcgggtacaatcacttctggttggacctttggtgcaggtgctgcattacaaataccatttgctatgcaaatggcttataggtttaatggtattggagttacacagaatgttctctatgagaaccaaaaattgattgccaaccaatttaatagtgctattggcaaaattcaagactcactttcttccacagcaagtgcacttggaaaacttcaagatgtggtcaaccaaaatgcacaagctttaaacacgcttgttaaacaacttagctccaattttggtgcaatttcaagtgttttaaatgatatcctttcacgtcttgacaaagttgaggctgaagtgcaaattgataggttgatcacaggcagacttcaaagtttgcagacatatgtgactcaacaattaattagagctgcagaaatcagagcttctgctaatcttgctgctactaaaatgtcagagtgtgtacttggacaatcaaaaagagttgatttttgtggaaagggctatcatcttatgtccttccctcagtcagcacctcatggtgtagtcttcttgcatgtgacttatgtccctgcacaagaaaagaacttcacaactgctcctgccatttgtcatgatggaaaagcacactttcctcgtgaaggtgtctttgtttcaaatggcacacactggtttgtaacacaaaggaatttttatgaaccacaaatcattactacagacaacacatttgtgtctggtaactgtgatgttgtaataggaattgtcaacaacacagtttatgatcctttgcaacctgaattagactcattcaaggaggagttagataaatattttaagaatcatacatcaccagatgttgatttaggtgacatctctggcattaatgcttcagttgtaaacattcaaaaagaaattgaccgcctcaatgaggttgccaagaatttaaatgaatctctcatcgatctccaagaacttggaaagtatgagcagtatataaaatggccatggtacatttggctaggttttatagctggcttgattgccatagtaatggtgacaattatgctttgctgtatgaccagttgctgtagttgtctcaagggctgttgttcttgtggatcctgctgcaaatttgatgaagacgactctgagccagtgctcaaaggagtcaaattacattacacataa': 3294,\n",
              " 'atggagtgtctcctactaaattaa': 24,\n",
              " 'atggcacacactggtttgtaa': 21,\n",
              " 'atggcagtttttgtacacaattaa': 24,\n",
              " 'atggccatggtacatttggctaggttttatagctggcttgattgccatagtaatggtgacaattatgctttgctgtatgaccagttgctgtag': 93,\n",
              " 'atggcttataggtttaatggtattggagttacacagaatgttctctatgagaaccaaaaattgattgccaaccaatttaatagtgctattggcaaaattcaagactcactttcttccacagcaagtgcacttggaaaacttcaagatgtggtcaaccaaaatgcacaagctttaaacacgcttgttaaacaacttagctccaattttggtgcaatttcaagtgttttaaatgatatcctttcacgtcttgacaaagttgaggctgaagtgcaaattgataggttgatcacaggcagacttcaaagtttgcagacatatgtgactcaacaattaattagagctgcagaaatcagagcttctgctaatcttgctgctactaaaatgtcagagtgtgtacttggacaatcaaaaagagttgatttttgtggaaagggctatcatcttatgtccttccctcagtcagcacctcatggtgtagtcttcttgcatgtgacttatgtccctgcacaagaaaagaacttcacaactgctcctgccatttgtcatgatggaaaagcacactttcctcgtgaaggtgtctttgtttcaaatggcacacactggtttgtaacacaaaggaatttttatgaaccacaaatcattactacagacaacacatttgtgtctggtaactgtgatgttgtaataggaattgtcaacaacacagtttatgatcctttgcaacctgaattagactcattcaaggaggagttagataaatattttaagaatcatacatcaccagatgttgatttaggtgacatctctggcattaatgcttcagttgtaaacattcaaaaagaaattgaccgcctcaatgaggttgccaagaatttaaatgaatctctcatcgatctccaagaacttggaaagtatgagcagtatataaaatggccatggtacatttggctaggttttatagctggcttgattgccatagtaatggtgacaattatgctttgctgtatgaccagttgctgtagttgtctcaagggctgttgttcttgtggatcctgctgcaaatttgatgaagacgactctgagccagtgctcaaaggagtcaaattacattacacataa': 1119,\n",
              " 'atggtacatttggctaggttttatagctggcttgattgccatagtaatggtgacaattatgctttgctgtatgaccagttgctgtag': 87,\n",
              " 'atggtactaagaggtttgataaccctgtcctaccatttaatgatggtgtttattttgcttccactgagaagtctaacataa': 81,\n",
              " 'atggtattggagttacacagaatgttctctatgagaaccaaaaattga': 48,\n",
              " 'atggtgacaattatgctttgctgtatgaccagttgctgtagttgtctcaagggctgttgttcttgtggatcctgctgcaaatttgatgaagacgactctgagccagtgctcaaaggagtcaaattacattacacataa': 138,\n",
              " 'atggtgattgccttggtgatattgctgctagagacctcatttgtgcacaaaagtttaacggccttactgttttgccacctttgctcacagatgaaatga': 99,\n",
              " 'atggtgtag': 9,\n",
              " 'atggtgttgaaggttttaattgttactttcctttacaatcatatggtttccaacccactaatggtgttggttaccaaccatacagagtag': 90,\n",
              " 'atggtgttggttaccaaccatacagagtag': 30,\n",
              " 'atggtgtttattttgcttccactgagaagtctaacataa': 39,\n",
              " 'atggttattttaaaatatattctaagcacacgcctattaatttag': 45,\n",
              " 'atggtttaa': 9,\n",
              " 'atggtttccaacccactaatggtgttggttaccaaccatacagagtag': 48,\n",
              " 'atgtacatttgtggtgattcaactgaatgcagcaatcttttgttgcaatatggcagtttttgtacacaattaaaccgtgctttaactggaatagctgttgaacaagacaaaaacacccaagaagtttttgcacaagtcaaacaaatttacaaaacaccaccaattaaagattttggtggttttaatttttcacaaatattaccagatccatcaaaaccaagcaagaggtcatttattgaagatctacttttcaacaaagtgacacttgcagatgctggcttcatcaaacaatatggtgattgccttggtgatattgctgctagagacctcatttgtgcacaaaagtttaacggccttactgttttgccacctttgctcacagatgaaatgattgctcaatacacttctgcactgttagcgggtacaatcacttctggttggacctttggtgcaggtgctgcattacaaataccatttgctatgcaaatggcttataggtttaatggtattggagttacacagaatgttctctatgagaaccaaaaattgattgccaaccaatttaatagtgctattggcaaaattcaagactcactttcttccacagcaagtgcacttggaaaacttcaagatgtggtcaaccaaaatgcacaagctttaaacacgcttgttaaacaacttagctccaattttggtgcaatttcaagtgttttaaatgatatcctttcacgtcttgacaaagttgaggctgaagtgcaaattgataggttgatcacaggcagacttcaaagtttgcagacatatgtgactcaacaattaattagagctgcagaaatcagagcttctgctaatcttgctgctactaaaatgtcagagtgtgtacttggacaatcaaaaagagttgatttttgtggaaagggctatcatcttatgtccttccctcagtcagcacctcatggtgtagtcttcttgcatgtgacttatgtccctgcacaagaaaagaacttcacaactgctcctgccatttgtcatgatggaaaagcacactttcctcgtgaaggtgtctttgtttcaaatggcacacactggtttgtaacacaaaggaatttttatgaaccacaaatcattactacagacaacacatttgtgtctggtaactgtgatgttgtaataggaattgtcaacaacacagtttatgatcctttgcaacctgaattagactcattcaaggaggagttagataaatattttaagaatcatacatcaccagatgttgatttaggtgacatctctggcattaatgcttcagttgtaaacattcaaaaagaaattgaccgcctcaatgaggttgccaagaatttaaatgaatctctcatcgatctccaagaacttggaaagtatgagcagtatataaaatggccatggtacatttggctaggttttatagctggcttgattgccatagtaatggtgacaattatgctttgctgtatgaccagttgctgtagttgtctcaagggctgttgttcttgtggatcctgctgcaaatttgatgaagacgactctgagccagtgctcaaaggagtcaaattacattacacataa': 1605,\n",
              " 'atgtcaacaactcatatgagtgtgacatacccattggtgcaggtatatgcgctagttatcagactcagactaattctcctcggcgggcacgtagtgtag': 99,\n",
              " 'atgtcacttggtgcagaaaattcagttgcttactctaataactctattgccatacccacaaattttactattagtgttaccacagaaattctaccagtgtctatgaccaagacatcagtagattgtacaatgtacatttgtggtgattcaactgaatgcagcaatcttttgttgcaatatggcagtttttgtacacaattaaaccgtgctttaactggaatagctgttgaacaagacaaaaacacccaagaagtttttgcacaagtcaaacaaatttacaaaacaccaccaattaaagattttggtggttttaatttttcacaaatattaccagatccatcaaaaccaagcaagaggtcatttattgaagatctacttttcaacaaagtgacacttgcagatgctggcttcatcaaacaatatggtgattgccttggtgatattgctgctagagacctcatttgtgcacaaaagtttaacggccttactgttttgccacctttgctcacagatgaaatgattgctcaatacacttctgcactgttagcgggtacaatcacttctggttggacctttggtgcaggtgctgcattacaaataccatttgctatgcaaatggcttataggtttaatggtattggagttacacagaatgttctctatgagaaccaaaaattgattgccaaccaatttaatagtgctattggcaaaattcaagactcactttcttccacagcaagtgcacttggaaaacttcaagatgtggtcaaccaaaatgcacaagctttaaacacgcttgttaaacaacttagctccaattttggtgcaatttcaagtgttttaaatgatatcctttcacgtcttgacaaagttgaggctgaagtgcaaattgataggttgatcacaggcagacttcaaagtttgcagacatatgtgactcaacaattaattagagctgcagaaatcagagcttctgctaatcttgctgctactaaaatgtcagagtgtgtacttggacaatcaaaaagagttgatttttgtggaaagggctatcatcttatgtccttccctcagtcagcacctcatggtgtagtcttcttgcatgtgacttatgtccctgcacaagaaaagaacttcacaactgctcctgccatttgtcatgatggaaaagcacactttcctcgtgaaggtgtctttgtttcaaatggcacacactggtttgtaacacaaaggaatttttatgaaccacaaatcattactacagacaacacatttgtgtctggtaactgtgatgttgtaataggaattgtcaacaacacagtttatgatcctttgcaacctgaattagactcattcaaggaggagttagataaatattttaagaatcatacatcaccagatgttgatttaggtgacatctctggcattaatgcttcagttgtaaacattcaaaaagaaattgaccgcctcaatgaggttgccaagaatttaaatgaatctctcatcgatctccaagaacttggaaagtatgagcagtatataaaatggccatggtacatttggctaggttttatagctggcttgattgccatagtaatggtgacaattatgctttgctgtatgaccagttgctgtagttgtctcaagggctgttgttcttgtggatcctgctgcaaatttgatgaagacgactctgagccagtgctcaaaggagtcaaattacattacacataa': 1734,\n",
              " 'atgtcagagtgtgtacttggacaatcaaaaagagttgatttttgtggaaagggctatcatcttatgtccttccctcagtcagcacctcatggtgtagtcttcttgcatgtgacttatgtccctgcacaagaaaagaacttcacaactgctcctgccatttgtcatgatggaaaagcacactttcctcgtgaaggtgtctttgtttcaaatggcacacactggtttgtaacacaaaggaatttttatgaaccacaaatcattactacagacaacacatttgtgtctggtaactgtgatgttgtaataggaattgtcaacaacacagtttatgatcctttgcaacctgaattagactcattcaaggaggagttagataaatattttaagaatcatacatcaccagatgttgatttaggtgacatctctggcattaatgcttcagttgtaaacattcaaaaagaaattgaccgcctcaatgaggttgccaagaatttaaatgaatctctcatcgatctccaagaacttggaaagtatgagcagtatataaaatggccatggtacatttggctaggttttatagctggcttgattgccatagtaatggtgacaattatgctttgctgtatgaccagttgctgtagttgtctcaagggctgttgttcttgtggatcctgctgcaaatttgatgaagacgactctgagccagtgctcaaaggagtcaaattacattacacataa': 738,\n",
              " 'atgtccctgcacaagaaaagaacttcacaactgctcctgccatttgtcatgatggaaaagcacactttcctcgtgaaggtgtctttgtttcaaatggcacacactggtttgtaa': 114,\n",
              " 'atgtccttccctcagtcagcacctcatggtgtagtcttcttgcatgtgacttatgtccctgcacaagaaaagaacttcacaactgctcctgccatttgtcatgatggaaaagcacactttcctcgtgaaggtgtctttgtttcaaatggcacacactggtttgtaacacaaaggaatttttatgaaccacaaatcattactacagacaacacatttgtgtctggtaactgtgatgttgtaataggaattgtcaacaacacagtttatgatcctttgcaacctgaattagactcattcaaggaggagttagataaatattttaagaatcatacatcaccagatgttgatttaggtgacatctctggcattaatgcttcagttgtaaacattcaaaaagaaattgaccgcctcaatgaggttgccaagaatttaaatgaatctctcatcgatctccaagaacttggaaagtatgagcagtatataaaatggccatggtacatttggctaggttttatagctggcttgattgccatagtaatggtgacaattatgctttgctgtatgaccagttgctgtagttgtctcaagggctgttgttcttgtggatcctgctgcaaatttgatgaagacgactctgagccagtgctcaaaggagtcaaattacattacacataa': 675,\n",
              " 'atgtctatgcagattcatttgtaa': 24,\n",
              " 'atgtctctcagccttttcttatggaccttgaaggaaaacagggtaatttcaaaaatcttagggaatttgtgtttaagaatattgatggttattttaaaatatattctaagcacacgcctattaatttag': 129,\n",
              " 'atgtctctgggaccaatggtactaagaggtttgataaccctgtcctaccatttaatgatggtgtttattttgcttccactgagaagtctaacataa': 96,\n",
              " 'atgtga': 6,\n",
              " 'atgtgggttatcttcaacctaggacttttctattaa': 36,\n",
              " 'atgtggtcaaccaaaatgcacaagctttaa': 30,\n",
              " 'atgtgtcaatttcaacttcaatggtttaacaggcacaggtgttcttactga': 51,\n",
              " 'atgttaactgcacagaagtccctgttgctattcatgcagatcaacttactcctacttggcgtgtttattctacaggttctaatgtttttcaaacacgtgcaggctgtttaa': 111,\n",
              " 'atgttacttggttccatgctatacatgtctctgggaccaatggtactaagaggtttgataaccctgtcctaccatttaatgatggtgtttattttgcttccactgagaagtctaacataa': 120,\n",
              " 'atgttctctatgagaaccaaaaattga': 27,\n",
              " 'atgttcttttggtggtgtcagtgttataacaccaggaacaaatacttctaa': 51,\n",
              " 'atgttgatttag': 12,\n",
              " 'atgttgtaa': 9,\n",
              " 'atgttgttattaaagtctgtgaatttcaattttgtaatgatccatttttgggtgtttattaccacaaaaacaacaaaagttggatggaaagtgagttcagagtttattctagtgcgaataattgcacttttgaatatgtctctcagccttttcttatggaccttgaaggaaaacagggtaatttcaaaaatcttagggaatttgtgtttaagaatattgatggttattttaaaatatattctaagcacacgcctattaatttag': 264,\n",
              " 'atgtttttcaaacacgtgcaggctgtttaa': 30}"
            ]
          },
          "metadata": {
            "tags": []
          },
          "execution_count": 14
        }
      ]
    },
    {
      "cell_type": "markdown",
      "metadata": {
        "id": "Fsb9ncEXRaG8",
        "colab_type": "text"
      },
      "source": [
        "5) Now let's go back to treating the entire sequence as an open reading frame. We will now translate the sequence into amino acids.\n",
        "\n",
        "First, build up a DNA codon table using a dictionary relating 3 letter DNA codons to 1 letter protein abbreviations. There are many ways to do this. Since multiple codons reference the same amino acid, think about how you can store this information efficiently. Alternatively, you can look up existing codon tables on the web.\n",
        "\n",
        "Then, traverse through the sequence and build up the chain of amino acids just as tRNA's would in reality. Store the protein sequence as a string.\n",
        "\n",
        "Sanity check: Is the length of your protein sequence 1/3 of the length of the DNA sequence?\n",
        "\n",
        "** Solution here: http://www.petercollingridge.co.uk/tutorials/bioinformatics/codon-table/ **"
      ]
    },
    {
      "cell_type": "code",
      "metadata": {
        "id": "-hXkQVQWS8x2",
        "colab_type": "code",
        "colab": {}
      },
      "source": [
        "# Your code here\n",
        "\n",
        "# Build codon table\n",
        "bases = \"tcag\"\n",
        "codons = [a + b + c for a in bases for b in bases for c in bases]\n",
        "amino_acids = 'FFLLSSSSYY**CC*WLLLLPPPPHHQQRRRRIIIMTTTTNNKKSSRRVVVVAAAADDEEGGGG' # represent stop codons with *\n",
        "codon_table = dict(zip(codons, amino_acids))"
      ],
      "execution_count": 0,
      "outputs": []
    },
    {
      "cell_type": "code",
      "metadata": {
        "id": "cYq19z8itIjE",
        "colab_type": "code",
        "colab": {}
      },
      "source": [
        "# Method for translation\n",
        "def translate(seq):\n",
        "    seq = seq.lower().replace('\\n', '').replace(' ', '')\n",
        "    peptide = ''\n",
        "    \n",
        "    for i in range(0, len(seq), 3):\n",
        "        codon = seq[i: i+3]\n",
        "        amino_acid = codon_table.get(codon, '*')\n",
        "        if amino_acid != '*':\n",
        "            peptide += amino_acid\n",
        "        else:\n",
        "            break # stop codons are not included in peptide\n",
        "                \n",
        "    return peptide"
      ],
      "execution_count": 0,
      "outputs": []
    },
    {
      "cell_type": "code",
      "metadata": {
        "id": "CNgF-ZQwtNNS",
        "colab_type": "code",
        "colab": {}
      },
      "source": [
        "peptide = translate(genome)\n",
        "assert peptide[0] == \"M\" #first amino acid should be methionine\n",
        "assert len(peptide) == len(genome)/3 - 1 #subtract one since stop codons are not translated"
      ],
      "execution_count": 0,
      "outputs": []
    },
    {
      "cell_type": "markdown",
      "metadata": {
        "id": "ZBSkHsFCTkmd",
        "colab_type": "text"
      },
      "source": [
        "6) Almost done! Now that we have the protein sequence, we can use different online software (SWISS modeling, RaptorX, etc) to predict the protein structure given the sequence. If you would like, see if these predictions are similar to the real Covid glycoprotein structures observed by X-Ray Crystallograpy. I won't go into too much detail here since this is not Python related, but I definitely encourage you to explore these tools!\n",
        "\n",
        "Optional: The machinary behind central dogma is not perfect as you know. Mutations of different types can occur at any point throughout the process. As an exercise, use random variables to introduce mutations. For example, using an arbitrary error rate, introduce point mutations into the original sequence. Then go through step 5 again and see how much the protein sequence differs. You can use this to explore frameshift insertion and deletion mutations as well. These mutations may change the length of the protein sequence generated!"
      ]
    },
    {
      "cell_type": "code",
      "metadata": {
        "id": "Fpon_WkqUxWW",
        "colab_type": "code",
        "colab": {}
      },
      "source": [
        "# Optional: Your code here"
      ],
      "execution_count": 0,
      "outputs": []
    }
  ]
}