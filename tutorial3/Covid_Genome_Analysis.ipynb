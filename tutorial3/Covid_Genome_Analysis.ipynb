{
  "nbformat": 4,
  "nbformat_minor": 0,
  "metadata": {
    "colab": {
      "name": "Covid Genome Analysis",
      "provenance": [],
      "collapsed_sections": []
    },
    "kernelspec": {
      "name": "python3",
      "display_name": "Python 3"
    }
  },
  "cells": [
    {
      "cell_type": "markdown",
      "metadata": {
        "id": "Oib_Xg58D08U",
        "colab_type": "text"
      },
      "source": [
        "# Covid Genome Analysis\n",
        "\n",
        "Author: Eric Yang\n",
        "\n",
        "From evolution to molecular biology, genomic sequences contain a rich amount of information that can help us in studying disease diagnostics and treatment. Here, we will look at the sequence of the SARS-Cov2 surface glycoprotein. This sequence was obtained from a patient in Wuhan in December 2019 (https://www.ncbi.nlm.nih.gov/nuccore/MN908947). For ease of access, I have provided the full protein sequence below.\n",
        "\n",
        "Please run all the cells titled #You must run this cell, and complete all cells titled #Your code here. I encourage you to use online resources when you get stuck, remember Google is your friend!"
      ]
    },
    {
      "cell_type": "code",
      "metadata": {
        "id": "XvHpsHvmUlS_",
        "colab_type": "code",
        "colab": {}
      },
      "source": [
        "# You must run this cell\n",
        "\n",
        "# Severe acute respiratory syndrome coronavirus 2 (SARS-CoV2) surface glycoprotein genome.\n",
        "genome = \"atgtttgt ttttcttgtt ttattgccac tagtctctag\\\n",
        "tcagtgtgtt aatcttacaa ccagaactca attaccccct gcatacacta attctttcac\\\n",
        "acgtggtgtt tattaccctg acaaagtttt cagatcctca gttttacatt caactcagga\\\n",
        "cttgttctta cctttctttt ccaatgttac ttggttccat gctatacatg tctctgggac\\\n",
        "caatggtact aagaggtttg ataaccctgt cctaccattt aatgatggtg tttattttgc\\\n",
        "ttccactgag aagtctaaca taataagagg ctggattttt ggtactactt tagattcgaa\\\n",
        "gacccagtcc ctacttattg ttaataacgc tactaatgtt gttattaaag tctgtgaatt\\\n",
        "tcaattttgt aatgatccat ttttgggtgt ttattaccac aaaaacaaca aaagttggat\\\n",
        "ggaaagtgag ttcagagttt attctagtgc gaataattgc acttttgaat atgtctctca\\\n",
        "gccttttctt atggaccttg aaggaaaaca gggtaatttc aaaaatctta gggaatttgt\\\n",
        "gtttaagaat attgatggtt attttaaaat atattctaag cacacgccta ttaatttagt\\\n",
        "gcgtgatctc cctcagggtt tttcggcttt agaaccattg gtagatttgc caataggtat\\\n",
        "taacatcact aggtttcaaa ctttacttgc tttacataga agttatttga ctcctggtga\\\n",
        "ttcttcttca ggttggacag ctggtgctgc agcttattat gtgggttatc ttcaacctag\\\n",
        "gacttttcta ttaaaatata atgaaaatgg aaccattaca gatgctgtag actgtgcact\\\n",
        "tgaccctctc tcagaaacaa agtgtacgtt gaaatccttc actgtagaaa aaggaatcta\\\n",
        "tcaaacttct aactttagag tccaaccaac agaatctatt gttagatttc ctaatattac\\\n",
        "aaacttgtgc ccttttggtg aagtttttaa cgccaccaga tttgcatctg tttatgcttg\\\n",
        "gaacaggaag agaatcagca actgtgttgc tgattattct gtcctatata attccgcatc\\\n",
        "attttccact tttaagtgtt atggagtgtc tcctactaaa ttaaatgatc tctgctttac\\\n",
        "taatgtctat gcagattcat ttgtaattag aggtgatgaa gtcagacaaa tcgctccagg\\\n",
        "gcaaactgga aagattgctg attataatta taaattacca gatgatttta caggctgcgt\\\n",
        "tatagcttgg aattctaaca atcttgattc taaggttggt ggtaattata attacctgta\\\n",
        "tagattgttt aggaagtcta atctcaaacc ttttgagaga gatatttcaa ctgaaatcta\\\n",
        "tcaggccggt agcacacctt gtaatggtgt tgaaggtttt aattgttact ttcctttaca\\\n",
        "atcatatggt ttccaaccca ctaatggtgt tggttaccaa ccatacagag tagtagtact\\\n",
        "ttcttttgaa cttctacatg caccagcaac tgtttgtgga cctaaaaagt ctactaattt\\\n",
        "ggttaaaaac aaatgtgtca atttcaactt caatggttta acaggcacag gtgttcttac\\\n",
        "tgagtctaac aaaaagtttc tgcctttcca acaatttggc agagacattg ctgacactac\\\n",
        "tgatgctgtc cgtgatccac agacacttga gattcttgac attacaccat gttcttttgg\\\n",
        "tggtgtcagt gttataacac caggaacaaa tacttctaac caggttgctg ttctttatca\\\n",
        "ggatgttaac tgcacagaag tccctgttgc tattcatgca gatcaactta ctcctacttg\\\n",
        "gcgtgtttat tctacaggtt ctaatgtttt tcaaacacgt gcaggctgtt taataggggc\\\n",
        "tgaacatgtc aacaactcat atgagtgtga catacccatt ggtgcaggta tatgcgctag\\\n",
        "ttatcagact cagactaatt ctcctcggcg ggcacgtagt gtagctagtc aatccatcat\\\n",
        "tgcctacact atgtcacttg gtgcagaaaa ttcagttgct tactctaata actctattgc\\\n",
        "catacccaca aattttacta ttagtgttac cacagaaatt ctaccagtgt ctatgaccaa\\\n",
        "gacatcagta gattgtacaa tgtacatttg tggtgattca actgaatgca gcaatctttt\\\n",
        "gttgcaatat ggcagttttt gtacacaatt aaaccgtgct ttaactggaa tagctgttga\\\n",
        "acaagacaaa aacacccaag aagtttttgc acaagtcaaa caaatttaca aaacaccacc\\\n",
        "aattaaagat tttggtggtt ttaatttttc acaaatatta ccagatccat caaaaccaag\\\n",
        "caagaggtca tttattgaag atctactttt caacaaagtg acacttgcag atgctggctt\\\n",
        "catcaaacaa tatggtgatt gccttggtga tattgctgct agagacctca tttgtgcaca\\\n",
        "aaagtttaac ggccttactg ttttgccacc tttgctcaca gatgaaatga ttgctcaata\\\n",
        "cacttctgca ctgttagcgg gtacaatcac ttctggttgg acctttggtg caggtgctgc\\\n",
        "attacaaata ccatttgcta tgcaaatggc ttataggttt aatggtattg gagttacaca\\\n",
        "gaatgttctc tatgagaacc aaaaattgat tgccaaccaa tttaatagtg ctattggcaa\\\n",
        "aattcaagac tcactttctt ccacagcaag tgcacttgga aaacttcaag atgtggtcaa\\\n",
        "ccaaaatgca caagctttaa acacgcttgt taaacaactt agctccaatt ttggtgcaat\\\n",
        "ttcaagtgtt ttaaatgata tcctttcacg tcttgacaaa gttgaggctg aagtgcaaat\\\n",
        "tgataggttg atcacaggca gacttcaaag tttgcagaca tatgtgactc aacaattaat\\\n",
        "tagagctgca gaaatcagag cttctgctaa tcttgctgct actaaaatgt cagagtgtgt\\\n",
        "acttggacaa tcaaaaagag ttgatttttg tggaaagggc tatcatctta tgtccttccc\\\n",
        "tcagtcagca cctcatggtg tagtcttctt gcatgtgact tatgtccctg cacaagaaaa\\\n",
        "gaacttcaca actgctcctg ccatttgtca tgatggaaaa gcacactttc ctcgtgaagg\\\n",
        "tgtctttgtt tcaaatggca cacactggtt tgtaacacaa aggaattttt atgaaccaca\\\n",
        "aatcattact acagacaaca catttgtgtc tggtaactgt gatgttgtaa taggaattgt\\\n",
        "caacaacaca gtttatgatc ctttgcaacc tgaattagac tcattcaagg aggagttaga\\\n",
        "taaatatttt aagaatcata catcaccaga tgttgattta ggtgacatct ctggcattaa\\\n",
        "tgcttcagtt gtaaacattc aaaaagaaat tgaccgcctc aatgaggttg ccaagaattt\\\n",
        "aaatgaatct ctcatcgatc tccaagaact tggaaagtat gagcagtata taaaatggcc\\\n",
        "atggtacatt tggctaggtt ttatagctgg cttgattgcc atagtaatgg tgacaattat\\\n",
        "gctttgctgt atgaccagtt gctgtagttg tctcaagggc tgttgttctt gtggatcctg\\\n",
        "ctgcaaattt gatgaagacg actctgagcc agtgctcaaa ggagtcaaat tacattacac\\\n",
        "ataa\"\n",
        "genome = genome.replace(\" \", \"\")"
      ],
      "execution_count": 0,
      "outputs": []
    },
    {
      "cell_type": "markdown",
      "metadata": {
        "id": "gcADBEJtJJIr",
        "colab_type": "text"
      },
      "source": [
        "Let's explore this sequence. \n",
        "\n",
        "1) Print out the length of the sequence."
      ]
    },
    {
      "cell_type": "code",
      "metadata": {
        "id": "L9uoEkOmIL5B",
        "colab_type": "code",
        "colab": {}
      },
      "source": [
        "# Your code here"
      ],
      "execution_count": 0,
      "outputs": []
    },
    {
      "cell_type": "markdown",
      "metadata": {
        "id": "_GlEI_jzJzJ2",
        "colab_type": "text"
      },
      "source": [
        "2) Traverse through the sequence once and count the number of each nucleotide in the sequence. Store this in a dictionary with the nucleotide (key) mapping to its respective count (value). "
      ]
    },
    {
      "cell_type": "code",
      "metadata": {
        "id": "kCDEejWtJyUd",
        "colab_type": "code",
        "colab": {}
      },
      "source": [
        "# Your code here"
      ],
      "execution_count": 0,
      "outputs": []
    },
    {
      "cell_type": "markdown",
      "metadata": {
        "id": "EV2CL3R3Mnsv",
        "colab_type": "text"
      },
      "source": [
        "3) Import matplotlib and use it to create a bar chart of nucleotide vs count. Are they equally divided? Or are some nucleotides more present compared to others, and why is this? "
      ]
    },
    {
      "cell_type": "code",
      "metadata": {
        "id": "vPeh16k7Murt",
        "colab_type": "code",
        "colab": {}
      },
      "source": [
        "# Your code here "
      ],
      "execution_count": 0,
      "outputs": []
    },
    {
      "cell_type": "markdown",
      "metadata": {
        "id": "3ewCFKzhNo-R",
        "colab_type": "text"
      },
      "source": [
        "4) Let's use this genome to do an aside coding exercise. In reality, this whole sequence is one open reading frame, as in all of its contents end to end are used for protein synthesis. However, let's pretend that the sequence is a whole viral genome. \n",
        "\n",
        "Neglecting the end to end reading frame, find the start and end of the other open reading frame in the sequence (no need to do the reverse or reverse complement). Hint: store the sequence itself and its length in a dictionary.\n",
        "\n",
        "You will need to loop through the sequence in all three readings frames and decide how you will get codons and detect start (ATG) and stop codons (TAA, TAG, TGA).\n",
        "\n",
        "Note: You can compare your results with NCBI's open reading frame finder. https://www.ncbi.nlm.nih.gov/orffinder/"
      ]
    },
    {
      "cell_type": "code",
      "metadata": {
        "id": "U27qu-CkQyhJ",
        "colab_type": "code",
        "colab": {}
      },
      "source": [
        "# Your code here"
      ],
      "execution_count": 0,
      "outputs": []
    },
    {
      "cell_type": "markdown",
      "metadata": {
        "id": "Fsb9ncEXRaG8",
        "colab_type": "text"
      },
      "source": [
        "5) Now let's go back to treating the entire sequence as an open reading frame. We will now translate the sequence into amino acids.\n",
        "\n",
        "First, build up a DNA codon table using a dictionary relating 3 letter DNA codons to 1 letter protein abbreviations. There are many ways to do this. Since multiple codons reference the same amino acid, think about how you can store this information efficiently. Alternatively, you can look up existing codon tables on the web.\n",
        "\n",
        "Then, traverse through the sequence and build up the chain of amino acids just as tRNA's would in reality. Store the protein sequence as a string.\n",
        "\n",
        "Sanity check: Is the length of your protein sequence 1/3 of the length of the DNA sequence?"
      ]
    },
    {
      "cell_type": "code",
      "metadata": {
        "id": "-hXkQVQWS8x2",
        "colab_type": "code",
        "colab": {}
      },
      "source": [
        "# Your code here"
      ],
      "execution_count": 0,
      "outputs": []
    },
    {
      "cell_type": "markdown",
      "metadata": {
        "id": "ZBSkHsFCTkmd",
        "colab_type": "text"
      },
      "source": [
        "6) Almost done! Now that we have the protein sequence, we can use different online software (SWISS modeling, RaptorX, etc) to predict the protein structure given the sequence. If you would like, see if these predictions are similar to the real Covid glycoprotein structures observed by X-Ray Crystallograpy. I won't go into too much detail here since this is not Python related, but I definitely encourage you to explore these tools!\n",
        "\n",
        "Optional: The machinary behind central dogma is not perfect as you know. Mutations of different types can occur at any point throughout the process. As an exercise, use random variables to introduce mutations. For example, using an arbitrary error rate, introduce point mutations into the original sequence. Then go through step 5 again and see how much the protein sequence differs. You can use this to explore frameshift insertion and deletion mutations as well. These mutations may change the length of the protein sequence generated!"
      ]
    },
    {
      "cell_type": "code",
      "metadata": {
        "id": "Fpon_WkqUxWW",
        "colab_type": "code",
        "colab": {}
      },
      "source": [
        "# Optional: Your code here"
      ],
      "execution_count": 0,
      "outputs": []
    }
  ]
}