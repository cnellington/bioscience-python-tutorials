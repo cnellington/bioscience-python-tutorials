{
 "cells": [
  {
   "cell_type": "markdown",
   "metadata": {},
   "source": [
    "# Simulating Neurons"
   ]
  },
  {
   "cell_type": "markdown",
   "metadata": {},
   "source": [
    "With the basics down, we can now begin creating a full neuron \n",
    "simulation!\n",
    "\n",
    "Using the skeleton code below, let's create a simulation of 100\n",
    "neurons. Fill in all of the ``?`` found throughout the code to do\n",
    "this. You can always refer to the solutions and the Brian2\n",
    "introduction for help!"
   ]
  },
  {
   "cell_type": "code",
   "execution_count": null,
   "metadata": {},
   "outputs": [],
   "source": [
    "from brian2 import *\n",
    "\n",
    "start_scope()\n",
    "\n",
    "# Equation parameters\n",
    "tau = 10*ms;\n",
    "Vt = -50*mV;\n",
    "Vr = -60*mV;\n",
    "V0 = -49*mV\n",
    "\n",
    "# Defining neuron equation\n",
    "eqs = '''\n",
    "dv/dt  = (V0-v)/tau : volt\n",
    "'''\n",
    "\n",
    "# DEFINE NUMBER OF NEURONS\n",
    "N = ?;\n",
    "\n",
    "# Create a NeuronGroup with:\n",
    "# N total neurons\n",
    "# A threshold value of Vt\n",
    "# A reset value of Vr\n",
    "neurons = NeuronGroup(?)"
   ]
  },
  {
   "cell_type": "markdown",
   "metadata": {},
   "source": [
    "Now that we have our network, lets randomize the initial value of ``v`` to a value between ``-60*mV`` and ``-50mV``. To do this, fill in the code below (don't forget units)."
   ]
  },
  {
   "cell_type": "code",
   "execution_count": null,
   "metadata": {},
   "outputs": [],
   "source": [
    "neurons.v = '? + rand() * ?';"
   ]
  },
  {
   "cell_type": "markdown",
   "metadata": {},
   "source": [
    "Next, let's create some synpases. We'll be using two types in this\n",
    "network: inhibitory and excitatory.\n",
    "\n",
    "Inhibitory synapses cause a neuron to become less likely to fire,\n",
    "while excitatory synapses cause a neuron to become more likely to\n",
    "fire. In our model, we can decrease or increase the value of ``v`` of a post-synpatic neuron to obtain this effect."
   ]
  },
  {
   "cell_type": "code",
   "execution_count": null,
   "metadata": {},
   "outputs": [],
   "source": [
    "# Voltage values that will be added to a post-synaptic neuron\n",
    "# for excititory or inhibitory synapses\n",
    "Ve = 10*mV;\n",
    "Vi = -5*mV;"
   ]
  },
  {
   "cell_type": "markdown",
   "metadata": {},
   "source": [
    "Now, create two different kinds of synapses using the outline below. What values are we adding to the post-synaptic cells?"
   ]
  },
  {
   "cell_type": "code",
   "execution_count": null,
   "metadata": {},
   "outputs": [],
   "source": [
    "excit_con = Synapses(neurons, neurons, on_pre='?')\n",
    "inhib_con = Synapses(neurons, neurons, on_pre='?')"
   ]
  },
  {
   "cell_type": "markdown",
   "metadata": {},
   "source": [
    "Now, let's connect the first 20 neurons (indices 0-19) to all other neurons using the inhibitory synapses. Then, we'll connect the last 80 neurons to all other neurons using excitatory synapses.\n",
    "\n",
    "Note the use of ``p=``. This defines the probability that a given neuron will connect to another. This will add some randomness to our model, but only connecting some neurons."
   ]
  },
  {
   "cell_type": "code",
   "execution_count": null,
   "metadata": {},
   "outputs": [],
   "source": [
    "excit_con.connect('?',p=0.01)\n",
    "inhib_con.connect('?',p=0.15)"
   ]
  },
  {
   "cell_type": "markdown",
   "metadata": {},
   "source": [
    "Now, let's create a ``SpikeMonitor`` and a ``StateMonitor``. Make sure the ``StateMonitor`` recording the variable ``v`` in all neurons!"
   ]
  },
  {
   "cell_type": "code",
   "execution_count": null,
   "metadata": {},
   "outputs": [],
   "source": [
    "s_mon = # Create SpikeMonitor here\n",
    "v_mon = # Create StateMonitor here"
   ]
  },
  {
   "cell_type": "markdown",
   "metadata": {},
   "source": [
    "Finally, run the model for 500 milliseconds and plot the output of the ``SpikeMonitor``."
   ]
  },
  {
   "cell_type": "code",
   "execution_count": null,
   "metadata": {},
   "outputs": [],
   "source": [
    "run(?)\n",
    "\n",
    "plot(?, ?, ',k')\n",
    "xlabel('Time (ms)')\n",
    "ylabel('Neuron index')"
   ]
  },
  {
   "cell_type": "markdown",
   "metadata": {},
   "source": [
    "We can also look at how the voltage changes in individual\n",
    "neurons, by plotting the contents of the ``StateMonitor``.\n",
    "\n",
    "Try looking at how different neurons "
   ]
  },
  {
   "cell_type": "code",
   "execution_count": null,
   "metadata": {},
   "outputs": [],
   "source": [
    "plot(v_mon.t/ms,v_mon[0].v/volt);\n",
    "xlabel('Time(ms)');\n",
    "ylabel('Voltage (V)');"
   ]
  },
  {
   "cell_type": "code",
   "execution_count": null,
   "metadata": {},
   "outputs": [],
   "source": []
  }
 ],
 "metadata": {
  "kernelspec": {
   "display_name": "Python 3",
   "language": "python",
   "name": "python3"
  },
  "language_info": {
   "codemirror_mode": {
    "name": "ipython",
    "version": 3
   },
   "file_extension": ".py",
   "mimetype": "text/x-python",
   "name": "python",
   "nbconvert_exporter": "python",
   "pygments_lexer": "ipython3",
   "version": "3.7.3"
  }
 },
 "nbformat": 4,
 "nbformat_minor": 2
}
